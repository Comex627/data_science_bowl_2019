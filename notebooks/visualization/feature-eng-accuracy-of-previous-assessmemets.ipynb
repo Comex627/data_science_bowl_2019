{
 "cells": [
  {
   "cell_type": "markdown",
   "metadata": {},
   "source": [
    "# Feature Engineering: Accuracy Group of Previous Assessments \n",
    "\n",
    "** Note: ** This kernel was called \"How to Extract Training Data From Test Data\" until revision 6. In regards to the concern that utilizing test data as training data might not be good practice, the original utility function to extract the accuracy group is now used for feature engineering."
   ]
  },
  {
   "cell_type": "code",
   "execution_count": 1,
   "metadata": {
    "_cell_guid": "",
    "_kg_hide-input": true,
    "_uuid": ""
   },
   "outputs": [],
   "source": [
    "import pandas as pd\n",
    "import warnings\n",
    "warnings.filterwarnings(\"ignore\")\n",
    "\n",
    "test_df = pd.read_csv(\"../input/data-science-bowl-2019/test.csv\")\n",
    "train_df = pd.read_csv(\"../input/data-science-bowl-2019/train.csv\")\n",
    "train_labels_df = pd.read_csv(\"../input/data-science-bowl-2019/train_labels.csv\")"
   ]
  },
  {
   "cell_type": "markdown",
   "metadata": {},
   "source": [
    "As you can see below, the test data contains earlier sessions with all events. \n",
    "\n",
    "For each installation_id in the test data, there is one assessment game session which only contains the very first event. For this assessment, we are expected to predict the accuracy group.\n",
    "\n",
    "**For all other assessment game sessions in the test data (and the training data), we can extract the accuracy group from their corresponding events. This information can be used for further feature engineering, e.g. accuracy group of previous assessments of a user.**"
   ]
  },
  {
   "cell_type": "code",
   "execution_count": 2,
   "metadata": {
    "_kg_hide-input": false
   },
   "outputs": [
    {
     "data": {
      "text/html": [
       "<div>\n",
       "<style scoped>\n",
       "    .dataframe tbody tr th:only-of-type {\n",
       "        vertical-align: middle;\n",
       "    }\n",
       "\n",
       "    .dataframe tbody tr th {\n",
       "        vertical-align: top;\n",
       "    }\n",
       "\n",
       "    .dataframe thead th {\n",
       "        text-align: right;\n",
       "    }\n",
       "</style>\n",
       "<table border=\"1\" class=\"dataframe\">\n",
       "  <thead>\n",
       "    <tr style=\"text-align: right;\">\n",
       "      <th></th>\n",
       "      <th>installation_id</th>\n",
       "      <th>game_session</th>\n",
       "      <th>event_data</th>\n",
       "    </tr>\n",
       "  </thead>\n",
       "  <tbody>\n",
       "    <tr>\n",
       "      <th>0</th>\n",
       "      <td>00abaee7</td>\n",
       "      <td>348d7f09f96af313</td>\n",
       "      <td>1</td>\n",
       "    </tr>\n",
       "    <tr>\n",
       "      <th>1</th>\n",
       "      <td>00abaee7</td>\n",
       "      <td>8b38fc0d2fd315dc</td>\n",
       "      <td>26</td>\n",
       "    </tr>\n",
       "    <tr>\n",
       "      <th>2</th>\n",
       "      <td>01242218</td>\n",
       "      <td>009c890ce6c4f3e3</td>\n",
       "      <td>36</td>\n",
       "    </tr>\n",
       "    <tr>\n",
       "      <th>3</th>\n",
       "      <td>01242218</td>\n",
       "      <td>1fef5d54cb4b775a</td>\n",
       "      <td>1</td>\n",
       "    </tr>\n",
       "    <tr>\n",
       "      <th>4</th>\n",
       "      <td>01242218</td>\n",
       "      <td>31423dbcd717919e</td>\n",
       "      <td>51</td>\n",
       "    </tr>\n",
       "    <tr>\n",
       "      <th>5</th>\n",
       "      <td>01242218</td>\n",
       "      <td>597a8839a5a3468d</td>\n",
       "      <td>61</td>\n",
       "    </tr>\n",
       "    <tr>\n",
       "      <th>6</th>\n",
       "      <td>01242218</td>\n",
       "      <td>ab61cae5e3215355</td>\n",
       "      <td>83</td>\n",
       "    </tr>\n",
       "    <tr>\n",
       "      <th>7</th>\n",
       "      <td>01242218</td>\n",
       "      <td>e8e62de939f916bc</td>\n",
       "      <td>13</td>\n",
       "    </tr>\n",
       "    <tr>\n",
       "      <th>8</th>\n",
       "      <td>017c5718</td>\n",
       "      <td>4b165a330a0bdd6c</td>\n",
       "      <td>1</td>\n",
       "    </tr>\n",
       "    <tr>\n",
       "      <th>9</th>\n",
       "      <td>01a44906</td>\n",
       "      <td>be0b655ad1fee30c</td>\n",
       "      <td>1</td>\n",
       "    </tr>\n",
       "  </tbody>\n",
       "</table>\n",
       "</div>"
      ],
      "text/plain": [
       "  installation_id      game_session  event_data\n",
       "0        00abaee7  348d7f09f96af313           1\n",
       "1        00abaee7  8b38fc0d2fd315dc          26\n",
       "2        01242218  009c890ce6c4f3e3          36\n",
       "3        01242218  1fef5d54cb4b775a           1\n",
       "4        01242218  31423dbcd717919e          51\n",
       "5        01242218  597a8839a5a3468d          61\n",
       "6        01242218  ab61cae5e3215355          83\n",
       "7        01242218  e8e62de939f916bc          13\n",
       "8        017c5718  4b165a330a0bdd6c           1\n",
       "9        01a44906  be0b655ad1fee30c           1"
      ]
     },
     "execution_count": 2,
     "metadata": {},
     "output_type": "execute_result"
    }
   ],
   "source": [
    "# Only get assessments\n",
    "test_df_assessments = test_df[test_df.type == 'Assessment']\n",
    "test_df_assessments = test_df_assessments.groupby(['installation_id', 'game_session'])['event_data'].count().reset_index()\n",
    "\n",
    "test_df_assessments.head(10)"
   ]
  },
  {
   "cell_type": "markdown",
   "metadata": {},
   "source": [
    "# Extract Accuracy Group from Event Data\n",
    "> The file train_labels.csv has been provided to show how these groups would be computed on the assessments in the training set. Assessment attempts are captured in event_code 4100 for all assessments except for Bird Measurer, which uses event_code 4110. If the attempt was correct, it contains \"correct\":true."
   ]
  },
  {
   "cell_type": "code",
   "execution_count": 3,
   "metadata": {
    "_cell_guid": "b1076dfc-b9ad-4769-8c92-a6c4dae69d19",
    "_uuid": "8f2839f25d086af736a60e9eeb907d3b93b6e0e5"
   },
   "outputs": [],
   "source": [
    "import json\n",
    "\n",
    "def estimate_accuracy_group(df):\n",
    "    df = df[((df['event_code']==(2000)) |\n",
    "        ((df['event_code']==(4100)) & (df['title'] != 'Bird Measurer (Assessment)')) |\n",
    "             ((df['event_code']==(4110)) & (df['title'] == 'Bird Measurer (Assessment)'))) &\n",
    "            (df['type']=='Assessment')]\n",
    "\n",
    "    # Convert event_data to json object\n",
    "    df['event_data_json'] = df['event_data'].apply(lambda x: json.loads(x))\n",
    "    \n",
    "    # Interpret event_data\n",
    "    df['num_incorrect'] = df['event_data_json'].apply(lambda x: (0 if x['correct'] else 1) if 'correct' in x  else 0)\n",
    "    df['num_correct'] = df['event_data_json'].apply(lambda x: (1 if x['correct'] else 0)  if 'correct' in x  else 0)\n",
    "    \n",
    "    # Calculate num_correct, num_incorrect and accuracy_group\n",
    "    df = df.groupby('game_session').agg(num_correct_pred = ('num_correct', 'max'), \n",
    "                                        num_incorrect_pred = ('num_incorrect', 'sum'), ).reset_index()\n",
    "\n",
    "    df['accuracy_group_pred'] = df['num_incorrect_pred'].apply(lambda x: 3 if x == 0 else (2 if x == 1 else 1)) * df['num_correct_pred']\n",
    "    \n",
    "    return df"
   ]
  },
  {
   "cell_type": "markdown",
   "metadata": {},
   "source": [
    "# Evaluate Utility Function with Training Data and Training Labels\n",
    "Let's evaluate the accuracy of our function estimate_accuracy_group() with the given test labels."
   ]
  },
  {
   "cell_type": "code",
   "execution_count": 4,
   "metadata": {
    "_cell_guid": "79c7e3d0-c299-4dcb-8224-4455121ee9b0",
    "_uuid": "d629ff2d2480ee46fbb7e2d37f6b5fab8052498a"
   },
   "outputs": [
    {
     "name": "stdout",
     "output_type": "stream",
     "text": [
      "17690 actual game sessions\n",
      "17690 predicted game sessions\n",
      "Max. deviation between prediction and actual accuracy_group is 0\n"
     ]
    },
    {
     "data": {
      "text/html": [
       "<div>\n",
       "<style scoped>\n",
       "    .dataframe tbody tr th:only-of-type {\n",
       "        vertical-align: middle;\n",
       "    }\n",
       "\n",
       "    .dataframe tbody tr th {\n",
       "        vertical-align: top;\n",
       "    }\n",
       "\n",
       "    .dataframe thead th {\n",
       "        text-align: right;\n",
       "    }\n",
       "</style>\n",
       "<table border=\"1\" class=\"dataframe\">\n",
       "  <thead>\n",
       "    <tr style=\"text-align: right;\">\n",
       "      <th></th>\n",
       "      <th>game_session</th>\n",
       "      <th>num_correct_pred</th>\n",
       "      <th>num_incorrect_pred</th>\n",
       "      <th>accuracy_group_pred</th>\n",
       "      <th>installation_id</th>\n",
       "      <th>title</th>\n",
       "      <th>num_correct</th>\n",
       "      <th>num_incorrect</th>\n",
       "      <th>accuracy</th>\n",
       "      <th>accuracy_group</th>\n",
       "    </tr>\n",
       "  </thead>\n",
       "  <tbody>\n",
       "    <tr>\n",
       "      <th>0</th>\n",
       "      <td>00097cda27afb726</td>\n",
       "      <td>1</td>\n",
       "      <td>0</td>\n",
       "      <td>3</td>\n",
       "      <td>01bdd720</td>\n",
       "      <td>Mushroom Sorter (Assessment)</td>\n",
       "      <td>1</td>\n",
       "      <td>0</td>\n",
       "      <td>0</td>\n",
       "      <td>3</td>\n",
       "    </tr>\n",
       "    <tr>\n",
       "      <th>1</th>\n",
       "      <td>000f68cff32664ef</td>\n",
       "      <td>0</td>\n",
       "      <td>6</td>\n",
       "      <td>0</td>\n",
       "      <td>3f0dca37</td>\n",
       "      <td>Chest Sorter (Assessment)</td>\n",
       "      <td>0</td>\n",
       "      <td>6</td>\n",
       "      <td>0</td>\n",
       "      <td>0</td>\n",
       "    </tr>\n",
       "    <tr>\n",
       "      <th>2</th>\n",
       "      <td>0014403daadf67aa</td>\n",
       "      <td>1</td>\n",
       "      <td>3</td>\n",
       "      <td>1</td>\n",
       "      <td>29d1aaee</td>\n",
       "      <td>Bird Measurer (Assessment)</td>\n",
       "      <td>1</td>\n",
       "      <td>3</td>\n",
       "      <td>0</td>\n",
       "      <td>1</td>\n",
       "    </tr>\n",
       "    <tr>\n",
       "      <th>3</th>\n",
       "      <td>0014daa1d3e26eb2</td>\n",
       "      <td>1</td>\n",
       "      <td>2</td>\n",
       "      <td>1</td>\n",
       "      <td>55fdf49f</td>\n",
       "      <td>Mushroom Sorter (Assessment)</td>\n",
       "      <td>1</td>\n",
       "      <td>2</td>\n",
       "      <td>0</td>\n",
       "      <td>1</td>\n",
       "    </tr>\n",
       "    <tr>\n",
       "      <th>4</th>\n",
       "      <td>001c49e9e9968dbe</td>\n",
       "      <td>1</td>\n",
       "      <td>1</td>\n",
       "      <td>2</td>\n",
       "      <td>19d4b097</td>\n",
       "      <td>Bird Measurer (Assessment)</td>\n",
       "      <td>1</td>\n",
       "      <td>1</td>\n",
       "      <td>0</td>\n",
       "      <td>2</td>\n",
       "    </tr>\n",
       "  </tbody>\n",
       "</table>\n",
       "</div>"
      ],
      "text/plain": [
       "       game_session  num_correct_pred  num_incorrect_pred  \\\n",
       "0  00097cda27afb726                 1                   0   \n",
       "1  000f68cff32664ef                 0                   6   \n",
       "2  0014403daadf67aa                 1                   3   \n",
       "3  0014daa1d3e26eb2                 1                   2   \n",
       "4  001c49e9e9968dbe                 1                   1   \n",
       "\n",
       "   accuracy_group_pred installation_id                         title  \\\n",
       "0                    3        01bdd720  Mushroom Sorter (Assessment)   \n",
       "1                    0        3f0dca37     Chest Sorter (Assessment)   \n",
       "2                    1        29d1aaee    Bird Measurer (Assessment)   \n",
       "3                    1        55fdf49f  Mushroom Sorter (Assessment)   \n",
       "4                    2        19d4b097    Bird Measurer (Assessment)   \n",
       "\n",
       "   num_correct  num_incorrect  accuracy  accuracy_group  \n",
       "0            1              0         0               3  \n",
       "1            0              6         0               0  \n",
       "2            1              3         0               1  \n",
       "3            1              2         0               1  \n",
       "4            1              1         0               2  "
      ]
     },
     "execution_count": 4,
     "metadata": {},
     "output_type": "execute_result"
    }
   ],
   "source": [
    "useful_game_sessions = train_labels_df['game_session'].unique()\n",
    "\n",
    "# Extract accuracy_group from event_data\n",
    "train_labels_pred = estimate_accuracy_group(train_df[train_df['game_session'].isin(useful_game_sessions)])\n",
    "\n",
    "print('{} actual game sessions'.format(train_labels_df.shape[0]))\n",
    "print('{} predicted game sessions'.format(train_labels_pred.shape[0]))\n",
    "\n",
    "# Evaluation\n",
    "train_labels_pred = train_labels_pred.merge(train_labels_df, on = 'game_session')\n",
    "train_labels_pred['accuracy'] = train_labels_pred['accuracy_group_pred'] - train_labels_pred['accuracy_group']\n",
    "\n",
    "print('Max. deviation between prediction and actual accuracy_group is {}'.format(train_labels_pred['accuracy'].max()))\n",
    "train_labels_pred.head()\n",
    "     "
   ]
  },
  {
   "cell_type": "markdown",
   "metadata": {},
   "source": [
    "# Extracting Accuracy Group for Test Data as a Feature\n",
    "\n",
    "**As mentioned above, only assessments with a single event count are intended for prediction.**\n",
    "Therefore, let's drop the actual test data to extract the accuracy group of previous assessments as features."
   ]
  },
  {
   "cell_type": "code",
   "execution_count": 5,
   "metadata": {
    "_kg_hide-output": false
   },
   "outputs": [
    {
     "data": {
      "text/html": [
       "<div>\n",
       "<style scoped>\n",
       "    .dataframe tbody tr th:only-of-type {\n",
       "        vertical-align: middle;\n",
       "    }\n",
       "\n",
       "    .dataframe tbody tr th {\n",
       "        vertical-align: top;\n",
       "    }\n",
       "\n",
       "    .dataframe thead th {\n",
       "        text-align: right;\n",
       "    }\n",
       "</style>\n",
       "<table border=\"1\" class=\"dataframe\">\n",
       "  <thead>\n",
       "    <tr style=\"text-align: right;\">\n",
       "      <th></th>\n",
       "      <th>game_session</th>\n",
       "      <th>num_correct_pred</th>\n",
       "      <th>num_incorrect_pred</th>\n",
       "      <th>accuracy_group_pred</th>\n",
       "    </tr>\n",
       "  </thead>\n",
       "  <tbody>\n",
       "    <tr>\n",
       "      <th>0</th>\n",
       "      <td>001a139acd7fce92</td>\n",
       "      <td>1</td>\n",
       "      <td>15</td>\n",
       "      <td>1</td>\n",
       "    </tr>\n",
       "    <tr>\n",
       "      <th>1</th>\n",
       "      <td>003bafadf2259738</td>\n",
       "      <td>1</td>\n",
       "      <td>0</td>\n",
       "      <td>3</td>\n",
       "    </tr>\n",
       "    <tr>\n",
       "      <th>2</th>\n",
       "      <td>006b058c3bba11a2</td>\n",
       "      <td>1</td>\n",
       "      <td>0</td>\n",
       "      <td>3</td>\n",
       "    </tr>\n",
       "    <tr>\n",
       "      <th>3</th>\n",
       "      <td>007195dd54b7c251</td>\n",
       "      <td>1</td>\n",
       "      <td>0</td>\n",
       "      <td>3</td>\n",
       "    </tr>\n",
       "    <tr>\n",
       "      <th>4</th>\n",
       "      <td>007b28de31382377</td>\n",
       "      <td>0</td>\n",
       "      <td>1</td>\n",
       "      <td>0</td>\n",
       "    </tr>\n",
       "  </tbody>\n",
       "</table>\n",
       "</div>"
      ],
      "text/plain": [
       "       game_session  num_correct_pred  num_incorrect_pred  accuracy_group_pred\n",
       "0  001a139acd7fce92                 1                  15                    1\n",
       "1  003bafadf2259738                 1                   0                    3\n",
       "2  006b058c3bba11a2                 1                   0                    3\n",
       "3  007195dd54b7c251                 1                   0                    3\n",
       "4  007b28de31382377                 0                   1                    0"
      ]
     },
     "execution_count": 5,
     "metadata": {},
     "output_type": "execute_result"
    },
    {
     "data": {
      "image/png": "[encoded data removed]",
      "text/plain": [
       "<Figure size 432x288 with 1 Axes>"
      ]
     },
     "metadata": {
      "needs_background": "light"
     },
     "output_type": "display_data"
    }
   ],
   "source": [
    "# Assessments with only one event are intended for predictions. These will be dropped.\n",
    "drop = test_df_assessments[test_df_assessments.event_data == 1].game_session.unique()\n",
    "test_df_assessments = test_df[~test_df.game_session.isin(drop)]\n",
    "\n",
    "# Predict\n",
    "test_train_labels_pred = estimate_accuracy_group(test_df_assessments)\n",
    "test_train_labels_pred.accuracy_group_pred.hist()\n",
    "test_train_labels_pred.head()"
   ]
  },
  {
   "cell_type": "markdown",
   "metadata": {},
   "source": [
    "These extracted accuracy groups for previous assessments can now be utilized further to features such as 'average accuracy group' of a user."
   ]
  },
  {
   "cell_type": "markdown",
   "metadata": {},
   "source": [
    "**Hope this helped!**\n",
    "\n",
    "Please feel free to leave any remarks or comments!"
   ]
  }
 ],
 "metadata": {
  "kernelspec": {
   "display_name": "Python 3",
   "language": "python",
   "name": "python3"
  },
  "language_info": {
   "codemirror_mode": {
    "name": "ipython",
    "version": 3
   },
   "file_extension": ".py",
   "mimetype": "text/x-python",
   "name": "python",
   "nbconvert_exporter": "python",
   "pygments_lexer": "ipython3",
   "version": "3.7.3"
  }
 },
 "nbformat": 4,
 "nbformat_minor": 1
}
